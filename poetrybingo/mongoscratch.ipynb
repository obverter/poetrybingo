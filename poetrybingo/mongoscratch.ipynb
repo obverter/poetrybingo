{
 "cells": [
  {
   "cell_type": "code",
   "execution_count": 7,
   "metadata": {},
   "outputs": [],
   "source": [
    "# app.py\n",
    "from flask import Flask\n",
    "from flask import render_template\n",
    "from flask_sqlalchemy import Model, SQLAlchemy\n",
    "import sqlalchemy as sa\n",
    "from pymongo import MongoClient\n",
    "from flask_mongoengine import MongoEngine\n",
    "from mongoengine import *\n",
    "from secrets import mongopwd, mongouser, mongoserver\n",
    "app = Flask(__name__)\n"
   ]
  },
  {
   "cell_type": "code",
   "execution_count": 11,
   "metadata": {},
   "outputs": [],
   "source": [
    "client = MongoClient(f\"{mongoserver()}\")\n",
    "db = client['poetry_bingo']['headlines'].find()"
   ]
  },
  {
   "cell_type": "code",
   "execution_count": 12,
   "metadata": {},
   "outputs": [
    {
     "ename": "AttributeError",
     "evalue": "'Cursor' object has no attribute 'Document'",
     "output_type": "error",
     "traceback": [
      "\u001b[0;31m---------------------------------------------------------------------------\u001b[0m",
      "\u001b[0;31mAttributeError\u001b[0m                            Traceback (most recent call last)",
      "\u001b[1;32m/Users/bean/Dropbox/code/03_projects/tmz-poetry/poetrybingo/mongoscratch.ipynb Cell 3\u001b[0m in \u001b[0;36m<cell line: 1>\u001b[0;34m()\u001b[0m\n\u001b[0;32m----> <a href='vscode-notebook-cell:/Users/bean/Dropbox/code/03_projects/tmz-poetry/poetrybingo/mongoscratch.ipynb#X35sZmlsZQ%3D%3D?line=0'>1</a>\u001b[0m \u001b[39mclass\u001b[39;00m \u001b[39mHeadline\u001b[39;00m(db\u001b[39m.\u001b[39;49mDocument):\n\u001b[1;32m      <a href='vscode-notebook-cell:/Users/bean/Dropbox/code/03_projects/tmz-poetry/poetrybingo/mongoscratch.ipynb#X35sZmlsZQ%3D%3D?line=1'>2</a>\u001b[0m     headline \u001b[39m=\u001b[39m db\u001b[39m.\u001b[39mStringField(required\u001b[39m=\u001b[39m\u001b[39mTrue\u001b[39;00m)\n\u001b[1;32m      <a href='vscode-notebook-cell:/Users/bean/Dropbox/code/03_projects/tmz-poetry/poetrybingo/mongoscratch.ipynb#X35sZmlsZQ%3D%3D?line=2'>3</a>\u001b[0m     tags \u001b[39m=\u001b[39m db\u001b[39m.\u001b[39mStringField(ListField(max_length\u001b[39m=\u001b[39m\u001b[39m50\u001b[39m))\n",
      "\u001b[0;31mAttributeError\u001b[0m: 'Cursor' object has no attribute 'Document'"
     ]
    }
   ],
   "source": [
    "\n",
    "class Headline(db.Document):\n",
    "    headline = db.StringField(required=True)\n",
    "    tags = db.StringField(ListField(max_length=50))\n",
    "    timestamp = db.DateTimeField()\n",
    "    year = db.IntField()\n",
    "    month = db.IntField()\n",
    "    day = db.IntField()\n",
    "    hour = db.IntField()\n",
    "    minute = db.IntField()"
   ]
  },
  {
   "cell_type": "code",
   "execution_count": 63,
   "metadata": {},
   "outputs": [],
   "source": [
    "class Page(Document):\n",
    "    tags = ListField(StringField(max_length=50))"
   ]
  },
  {
   "cell_type": "code",
   "execution_count": 65,
   "metadata": {},
   "outputs": [],
   "source": [
    "disconnect()"
   ]
  },
  {
   "cell_type": "code",
   "execution_count": 16,
   "metadata": {},
   "outputs": [],
   "source": [
    "mylist = [\n",
    "    {\"headline\": \"This is a test\"},\n",
    "    {\"tags\": [\"test\", \"test2\"]},\n",
    "    {\"timestamp\": \"2023-01-01\"},\n",
    "    {\"year\": 2023},\n",
    "    {\"month\": 1},\n",
    "    {\"day\": 1},\n",
    "    {\"hour\": 1},\n",
    "    {\"minute\": 1}\n",
    "]"
   ]
  },
  {
   "cell_type": "code",
   "execution_count": 32,
   "metadata": {},
   "outputs": [],
   "source": [
    "item = [{\"headline\": \"This is not a test\", \"tags\": [\"test\", \"test2\"], \"timestamp\": \"2023-01-01\", \"year\": 2023, \"month\": 1, \"day\": 1, \"hour\": 1, \"minute\": 1}]"
   ]
  },
  {
   "cell_type": "code",
   "execution_count": 30,
   "metadata": {},
   "outputs": [
    {
     "ename": "TypeError",
     "evalue": "'Collection' object is not callable. If you meant to call the 'insert_one' method on a 'Database' object it is failing because no such method exists.",
     "output_type": "error",
     "traceback": [
      "\u001b[0;31m---------------------------------------------------------------------------\u001b[0m",
      "\u001b[0;31mTypeError\u001b[0m                                 Traceback (most recent call last)",
      "\u001b[1;32m/Users/bean/Dropbox/code/03_projects/tmz-poetry/poetrybingo/mongoscratch.ipynb Cell 8\u001b[0m in \u001b[0;36m<cell line: 1>\u001b[0;34m()\u001b[0m\n\u001b[0;32m----> <a href='vscode-notebook-cell:/Users/bean/Dropbox/code/03_projects/tmz-poetry/poetrybingo/mongoscratch.ipynb#X42sZmlsZQ%3D%3D?line=0'>1</a>\u001b[0m client\u001b[39m.\u001b[39;49mheadlines\u001b[39m.\u001b[39;49minsert_one(item)\n",
      "File \u001b[0;32m~/.pyenv/versions/3.10.5/lib/python3.10/site-packages/pymongo/collection.py:3486\u001b[0m, in \u001b[0;36mCollection.__call__\u001b[0;34m(self, *args, **kwargs)\u001b[0m\n\u001b[1;32m   3483\u001b[0m \u001b[39m\"\"\"This is only here so that some API misusages are easier to debug.\u001b[39;00m\n\u001b[1;32m   3484\u001b[0m \u001b[39m\"\"\"\u001b[39;00m\n\u001b[1;32m   3485\u001b[0m \u001b[39mif\u001b[39;00m \u001b[39m\"\u001b[39m\u001b[39m.\u001b[39m\u001b[39m\"\u001b[39m \u001b[39mnot\u001b[39;00m \u001b[39min\u001b[39;00m \u001b[39mself\u001b[39m\u001b[39m.\u001b[39m__name:\n\u001b[0;32m-> 3486\u001b[0m     \u001b[39mraise\u001b[39;00m \u001b[39mTypeError\u001b[39;00m(\u001b[39m\"\u001b[39m\u001b[39m'\u001b[39m\u001b[39mCollection\u001b[39m\u001b[39m'\u001b[39m\u001b[39m object is not callable. If you \u001b[39m\u001b[39m\"\u001b[39m\n\u001b[1;32m   3487\u001b[0m                     \u001b[39m\"\u001b[39m\u001b[39mmeant to call the \u001b[39m\u001b[39m'\u001b[39m\u001b[39m%s\u001b[39;00m\u001b[39m'\u001b[39m\u001b[39m method on a \u001b[39m\u001b[39m'\u001b[39m\u001b[39mDatabase\u001b[39m\u001b[39m'\u001b[39m\u001b[39m \u001b[39m\u001b[39m\"\u001b[39m\n\u001b[1;32m   3488\u001b[0m                     \u001b[39m\"\u001b[39m\u001b[39mobject it is failing because no such method \u001b[39m\u001b[39m\"\u001b[39m\n\u001b[1;32m   3489\u001b[0m                     \u001b[39m\"\u001b[39m\u001b[39mexists.\u001b[39m\u001b[39m\"\u001b[39m \u001b[39m%\u001b[39m\n\u001b[1;32m   3490\u001b[0m                     \u001b[39mself\u001b[39m\u001b[39m.\u001b[39m__name)\n\u001b[1;32m   3491\u001b[0m \u001b[39mraise\u001b[39;00m \u001b[39mTypeError\u001b[39;00m(\u001b[39m\"\u001b[39m\u001b[39m'\u001b[39m\u001b[39mCollection\u001b[39m\u001b[39m'\u001b[39m\u001b[39m object is not callable. If you meant to \u001b[39m\u001b[39m\"\u001b[39m\n\u001b[1;32m   3492\u001b[0m                 \u001b[39m\"\u001b[39m\u001b[39mcall the \u001b[39m\u001b[39m'\u001b[39m\u001b[39m%s\u001b[39;00m\u001b[39m'\u001b[39m\u001b[39m method on a \u001b[39m\u001b[39m'\u001b[39m\u001b[39mCollection\u001b[39m\u001b[39m'\u001b[39m\u001b[39m object it is \u001b[39m\u001b[39m\"\u001b[39m\n\u001b[1;32m   3493\u001b[0m                 \u001b[39m\"\u001b[39m\u001b[39mfailing because no such method exists.\u001b[39m\u001b[39m\"\u001b[39m \u001b[39m%\u001b[39m\n\u001b[1;32m   3494\u001b[0m                 \u001b[39mself\u001b[39m\u001b[39m.\u001b[39m__name\u001b[39m.\u001b[39msplit(\u001b[39m\"\u001b[39m\u001b[39m.\u001b[39m\u001b[39m\"\u001b[39m)[\u001b[39m-\u001b[39m\u001b[39m1\u001b[39m])\n",
      "\u001b[0;31mTypeError\u001b[0m: 'Collection' object is not callable. If you meant to call the 'insert_one' method on a 'Database' object it is failing because no such method exists."
     ]
    }
   ],
   "source": []
  },
  {
   "cell_type": "code",
   "execution_count": 36,
   "metadata": {},
   "outputs": [
    {
     "ename": "TypeError",
     "evalue": "documents must be a non-empty list",
     "output_type": "error",
     "traceback": [
      "\u001b[0;31m---------------------------------------------------------------------------\u001b[0m",
      "\u001b[0;31mTypeError\u001b[0m                                 Traceback (most recent call last)",
      "\u001b[1;32m/Users/bean/Dropbox/code/03_projects/tmz-poetry/poetrybingo/mongoscratch.ipynb Cell 9\u001b[0m in \u001b[0;36m<cell line: 1>\u001b[0;34m()\u001b[0m\n\u001b[0;32m----> <a href='vscode-notebook-cell:/Users/bean/Dropbox/code/03_projects/tmz-poetry/poetrybingo/mongoscratch.ipynb#X36sZmlsZQ%3D%3D?line=0'>1</a>\u001b[0m client[\u001b[39m'\u001b[39;49m\u001b[39mpoetry_bingo\u001b[39;49m\u001b[39m'\u001b[39;49m][\u001b[39m'\u001b[39;49m\u001b[39mheadlines\u001b[39;49m\u001b[39m'\u001b[39;49m]\u001b[39m.\u001b[39;49minsert_many(item, ordered\u001b[39m=\u001b[39;49m\u001b[39mFalse\u001b[39;49;00m)\n",
      "File \u001b[0;32m~/.pyenv/versions/3.10.5/lib/python3.10/site-packages/pymongo/collection.py:755\u001b[0m, in \u001b[0;36mCollection.insert_many\u001b[0;34m(self, documents, ordered, bypass_document_validation, session)\u001b[0m\n\u001b[1;32m    713\u001b[0m \u001b[39m\"\"\"Insert an iterable of documents.\u001b[39;00m\n\u001b[1;32m    714\u001b[0m \n\u001b[1;32m    715\u001b[0m \u001b[39m  >>> db.test.count_documents({})\u001b[39;00m\n\u001b[0;32m   (...)\u001b[0m\n\u001b[1;32m    750\u001b[0m \u001b[39m.. versionadded:: 3.0\u001b[39;00m\n\u001b[1;32m    751\u001b[0m \u001b[39m\"\"\"\u001b[39;00m\n\u001b[1;32m    752\u001b[0m \u001b[39mif\u001b[39;00m (\u001b[39mnot\u001b[39;00m \u001b[39misinstance\u001b[39m(documents, abc\u001b[39m.\u001b[39mIterable)\n\u001b[1;32m    753\u001b[0m         \u001b[39mor\u001b[39;00m \u001b[39misinstance\u001b[39m(documents, abc\u001b[39m.\u001b[39mMapping)\n\u001b[1;32m    754\u001b[0m         \u001b[39mor\u001b[39;00m \u001b[39mnot\u001b[39;00m documents):\n\u001b[0;32m--> 755\u001b[0m     \u001b[39mraise\u001b[39;00m \u001b[39mTypeError\u001b[39;00m(\u001b[39m\"\u001b[39m\u001b[39mdocuments must be a non-empty list\u001b[39m\u001b[39m\"\u001b[39m)\n\u001b[1;32m    756\u001b[0m inserted_ids \u001b[39m=\u001b[39m []\n\u001b[1;32m    757\u001b[0m \u001b[39mdef\u001b[39;00m \u001b[39mgen\u001b[39m():\n",
      "\u001b[0;31mTypeError\u001b[0m: documents must be a non-empty list"
     ]
    }
   ],
   "source": [
    "client['poetry_bingo']['headlines'].insert_many(item, ordered=False)\n"
   ]
  },
  {
   "cell_type": "code",
   "execution_count": null,
   "metadata": {},
   "outputs": [],
   "source": []
  }
 ],
 "metadata": {
  "kernelspec": {
   "display_name": "Python 3.10.5 64-bit ('3.10.5')",
   "language": "python",
   "name": "python3"
  },
  "language_info": {
   "codemirror_mode": {
    "name": "ipython",
    "version": 3
   },
   "file_extension": ".py",
   "mimetype": "text/x-python",
   "name": "python",
   "nbconvert_exporter": "python",
   "pygments_lexer": "ipython3",
   "version": "3.10.5"
  },
  "orig_nbformat": 4,
  "vscode": {
   "interpreter": {
    "hash": "134736d2bd8d30a43a7e81209d4f3bae1a364c8aa0c0cc845bdcd189c4629406"
   }
  }
 },
 "nbformat": 4,
 "nbformat_minor": 2
}
