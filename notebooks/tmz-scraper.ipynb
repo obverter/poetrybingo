{
 "cells": [
  {
   "cell_type": "code",
   "execution_count": 96,
   "metadata": {},
   "outputs": [],
   "source": [
    "import pandas as pd\n",
    "import requests\n",
    "from bs4 import BeautifulSoup"
   ]
  },
  {
   "cell_type": "code",
   "execution_count": 97,
   "metadata": {},
   "outputs": [],
   "source": [
    "url = 'https://www.tmz.com'\n",
    "req = requests.get(url)\n",
    "doc = BeautifulSoup(req.text)"
   ]
  },
  {
   "cell_type": "code",
   "execution_count": 98,
   "metadata": {},
   "outputs": [
    {
     "data": {
      "text/plain": [
       "{'headline': 'BTS Fans Can Live Like K-Pop Superstars In Same House BTS Filmed Reality Show'}"
      ]
     },
     "execution_count": 98,
     "metadata": {},
     "output_type": "execute_result"
    }
   ],
   "source": [
    "stories = {}\n",
    "for trash in doc.select('header > a > h2'):\n",
    "        raw = trash.text\n",
    "        story = {\n",
    "                \"headline\": raw.strip().replace(\"\\n\", \" \")\n",
    "        }\n",
    "        stories |= story\n",
    "stories\n"
   ]
  },
  {
   "cell_type": "code",
   "execution_count": 115,
   "metadata": {},
   "outputs": [
    {
     "name": "stderr",
     "output_type": "stream",
     "text": [
      "/var/folders/m9/kw6252cj3lqgftmsg97nw4z80000gn/T/ipykernel_70490/2313669257.py:19: FutureWarning: The frame.append method is deprecated and will be removed from pandas in a future version. Use pandas.concat instead.\n",
      "  stories = stories.append(story, ignore_index=True)\n",
      "/var/folders/m9/kw6252cj3lqgftmsg97nw4z80000gn/T/ipykernel_70490/2313669257.py:19: FutureWarning: The frame.append method is deprecated and will be removed from pandas in a future version. Use pandas.concat instead.\n",
      "  stories = stories.append(story, ignore_index=True)\n",
      "/var/folders/m9/kw6252cj3lqgftmsg97nw4z80000gn/T/ipykernel_70490/2313669257.py:19: FutureWarning: The frame.append method is deprecated and will be removed from pandas in a future version. Use pandas.concat instead.\n",
      "  stories = stories.append(story, ignore_index=True)\n",
      "/var/folders/m9/kw6252cj3lqgftmsg97nw4z80000gn/T/ipykernel_70490/2313669257.py:19: FutureWarning: The frame.append method is deprecated and will be removed from pandas in a future version. Use pandas.concat instead.\n",
      "  stories = stories.append(story, ignore_index=True)\n",
      "/var/folders/m9/kw6252cj3lqgftmsg97nw4z80000gn/T/ipykernel_70490/2313669257.py:19: FutureWarning: The frame.append method is deprecated and will be removed from pandas in a future version. Use pandas.concat instead.\n",
      "  stories = stories.append(story, ignore_index=True)\n",
      "/var/folders/m9/kw6252cj3lqgftmsg97nw4z80000gn/T/ipykernel_70490/2313669257.py:19: FutureWarning: The frame.append method is deprecated and will be removed from pandas in a future version. Use pandas.concat instead.\n",
      "  stories = stories.append(story, ignore_index=True)\n",
      "/var/folders/m9/kw6252cj3lqgftmsg97nw4z80000gn/T/ipykernel_70490/2313669257.py:19: FutureWarning: The frame.append method is deprecated and will be removed from pandas in a future version. Use pandas.concat instead.\n",
      "  stories = stories.append(story, ignore_index=True)\n",
      "/var/folders/m9/kw6252cj3lqgftmsg97nw4z80000gn/T/ipykernel_70490/2313669257.py:19: FutureWarning: The frame.append method is deprecated and will be removed from pandas in a future version. Use pandas.concat instead.\n",
      "  stories = stories.append(story, ignore_index=True)\n",
      "/var/folders/m9/kw6252cj3lqgftmsg97nw4z80000gn/T/ipykernel_70490/2313669257.py:19: FutureWarning: The frame.append method is deprecated and will be removed from pandas in a future version. Use pandas.concat instead.\n",
      "  stories = stories.append(story, ignore_index=True)\n",
      "/var/folders/m9/kw6252cj3lqgftmsg97nw4z80000gn/T/ipykernel_70490/2313669257.py:19: FutureWarning: The frame.append method is deprecated and will be removed from pandas in a future version. Use pandas.concat instead.\n",
      "  stories = stories.append(story, ignore_index=True)\n",
      "/var/folders/m9/kw6252cj3lqgftmsg97nw4z80000gn/T/ipykernel_70490/2313669257.py:19: FutureWarning: The frame.append method is deprecated and will be removed from pandas in a future version. Use pandas.concat instead.\n",
      "  stories = stories.append(story, ignore_index=True)\n",
      "/var/folders/m9/kw6252cj3lqgftmsg97nw4z80000gn/T/ipykernel_70490/2313669257.py:19: FutureWarning: The frame.append method is deprecated and will be removed from pandas in a future version. Use pandas.concat instead.\n",
      "  stories = stories.append(story, ignore_index=True)\n",
      "/var/folders/m9/kw6252cj3lqgftmsg97nw4z80000gn/T/ipykernel_70490/2313669257.py:19: FutureWarning: The frame.append method is deprecated and will be removed from pandas in a future version. Use pandas.concat instead.\n",
      "  stories = stories.append(story, ignore_index=True)\n",
      "/var/folders/m9/kw6252cj3lqgftmsg97nw4z80000gn/T/ipykernel_70490/2313669257.py:19: FutureWarning: The frame.append method is deprecated and will be removed from pandas in a future version. Use pandas.concat instead.\n",
      "  stories = stories.append(story, ignore_index=True)\n",
      "/var/folders/m9/kw6252cj3lqgftmsg97nw4z80000gn/T/ipykernel_70490/2313669257.py:19: FutureWarning: The frame.append method is deprecated and will be removed from pandas in a future version. Use pandas.concat instead.\n",
      "  stories = stories.append(story, ignore_index=True)\n",
      "/var/folders/m9/kw6252cj3lqgftmsg97nw4z80000gn/T/ipykernel_70490/2313669257.py:19: FutureWarning: The frame.append method is deprecated and will be removed from pandas in a future version. Use pandas.concat instead.\n",
      "  stories = stories.append(story, ignore_index=True)\n"
     ]
    }
   ],
   "source": [
    "tmz = doc.select('header a h2')\n",
    "tmz_timestamps = doc.select(\".article\")\n",
    "stories = pd.DataFrame(columns=[\"timestamp\", \"headline\"])\n",
    "paragraphs = []\n",
    "count = 0\n",
    "for trash in enumerate(tmz):\n",
    "    headline = tmz[count].text\n",
    "    headline = headline.replace(\"\\n\", \" \").upper()\n",
    "    \n",
    "    timestamp = tmz_timestamps[count].text.split('PT')[-20:]\n",
    "    timestamp = timestamp[0][-20:]\n",
    "    timestamp = timestamp.strip()\n",
    "    \n",
    "    story = {\n",
    "        \"timestamp\": timestamp,\n",
    "        \"headline\": headline\n",
    "    }\n",
    "    \n",
    "    stories = stories.append(story, ignore_index=True)\n",
    "    count += 1"
   ]
  },
  {
   "cell_type": "code",
   "execution_count": 117,
   "metadata": {},
   "outputs": [],
   "source": [
    "stories.to_csv('headlines.csv')"
   ]
  },
  {
   "cell_type": "code",
   "execution_count": null,
   "metadata": {},
   "outputs": [],
   "source": []
  }
 ],
 "metadata": {
  "kernelspec": {
   "display_name": "Python 3.10.3 64-bit ('3.10.3')",
   "language": "python",
   "name": "python3"
  },
  "language_info": {
   "codemirror_mode": {
    "name": "ipython",
    "version": 3
   },
   "file_extension": ".py",
   "mimetype": "text/x-python",
   "name": "python",
   "nbconvert_exporter": "python",
   "pygments_lexer": "ipython3",
   "version": "3.10.3"
  },
  "orig_nbformat": 4,
  "vscode": {
   "interpreter": {
    "hash": "10626171d4353dd8d0f12b0dae77464b904fee8f635bb045a55f368206a04bde"
   }
  }
 },
 "nbformat": 4,
 "nbformat_minor": 2
}
