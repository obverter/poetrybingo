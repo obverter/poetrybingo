{
 "cells": [
  {
   "cell_type": "code",
   "execution_count": 3,
   "metadata": {},
   "outputs": [],
   "source": [
    "from imagen_pytorch import Unet, Imagen, SRUnet256, ImagenTrainer\n",
    "from imagen_pytorch.data import Dataset"
   ]
  },
  {
   "cell_type": "code",
   "execution_count": 31,
   "metadata": {},
   "outputs": [],
   "source": [
    "unet1 = Unet(\n",
    "    dim = 32,\n",
    "    cond_dim = 512,\n",
    "    dim_mults = (1, 2, 4, 8),\n",
    "    num_resnet_blocks = 3,\n",
    "    layer_attns = (False, True, True, True),\n",
    ")\n",
    "\n",
    "unet2 = Unet(\n",
    "    dim = 32,\n",
    "    cond_dim = 512,\n",
    "    dim_mults = (1, 2, 4, 8),\n",
    "    num_resnet_blocks = (2, 4, 8, 8),\n",
    "    layer_attns = (False, False, False, True),\n",
    "    layer_cross_attns = (False, False, False, True)\n",
    ")\n",
    "\n",
    "# imagen, which contains the unets above (base unet and super resoluting ones)\n",
    "\n",
    "imagen = Imagen(\n",
    "    unets = (unet1, unet2),\n",
    "    text_encoder_name = 't5-large',\n",
    "    image_sizes = (64, 256),\n",
    "    timesteps = 1000,\n",
    "    cond_drop_prob = 0.1\n",
    ")\n",
    "\n",
    "# wrap imagen with the trainer class\n",
    "\n",
    "trainer = ImagenTrainer(imagen)\n",
    "\n",
    "# mock images (get a lot of this) and text encodings from large T5\n",
    "\n",
    "text_embeds = torch.randn(64, 256, 1024)\n",
    "images = torch.randn(64, 3, 256, 256)\n",
    "\n",
    "# feed images into imagen, training each unet in the cascade\n",
    "\n",
    "loss = trainer(\n",
    "    images,\n",
    "    text_embeds = text_embeds,\n",
    "    unet_number = 1,            # training on unet number 1 in this example, but you will have to also save checkpoints and then reload and continue training on unet number 2\n",
    "    max_batch_size = 4          # auto divide the batch of 64 up into batch size of 4 and accumulate gradients, so it all fits in memory\n",
    ")\n",
    "\n",
    "# trainer.update(unet_number = 1)\n",
    "\n",
    "# # do the above for many many many many steps\n",
    "# # now you can sample an image based on the text embeddings from the cascading ddpm\n",
    "\n",
    "# images = trainer.sample(texts = [\n",
    "#     'a puppy looking anxiously at a giant donut on the table',\n",
    "#     'the milky way galaxy in the style of monet'\n",
    "# ], cond_scale = 3.)\n",
    "\n",
    "# images.shape # (2, 3, 256, 256)"
   ]
  },
  {
   "cell_type": "code",
   "execution_count": 32,
   "metadata": {},
   "outputs": [],
   "source": [
    "trainer = ImagenTrainer(imagen)"
   ]
  },
  {
   "cell_type": "code",
   "execution_count": 33,
   "metadata": {},
   "outputs": [
    {
     "ename": "RuntimeError",
     "evalue": "Error(s) in loading state_dict for Imagen:\n\tUnexpected key(s) in state_dict: \"unets.0.downs.0.1.cross_attn.fn.null_kv\", \"unets.0.downs.0.1.cross_attn.fn.norm.g\", \"unets.0.downs.0.1.cross_attn.fn.to_q.weight\", \"unets.0.downs.0.1.cross_attn.fn.to_kv.weight\", \"unets.0.downs.0.1.cross_attn.fn.to_out.0.weight\", \"unets.0.downs.0.1.cross_attn.fn.to_out.1.g\", \"unets.0.ups.3.0.cross_attn.fn.null_kv\", \"unets.0.ups.3.0.cross_attn.fn.norm.g\", \"unets.0.ups.3.0.cross_attn.fn.to_q.weight\", \"unets.0.ups.3.0.cross_attn.fn.to_kv.weight\", \"unets.0.ups.3.0.cross_attn.fn.to_out.0.weight\", \"unets.0.ups.3.0.cross_attn.fn.to_out.1.g\". \n\tsize mismatch for unets.0.text_to_cond.weight: copying a param with shape torch.Size([512, 1024]) from checkpoint, the shape in current model is torch.Size([512, 768]).\n\tsize mismatch for unets.1.text_to_cond.weight: copying a param with shape torch.Size([512, 1024]) from checkpoint, the shape in current model is torch.Size([512, 768]).",
     "output_type": "error",
     "traceback": [
      "\u001b[0;31m---------------------------------------------------------------------------\u001b[0m",
      "\u001b[0;31mRuntimeError\u001b[0m                              Traceback (most recent call last)",
      "\u001b[1;32m/Users/bean/Dropbox/code/_projects/tmz-poetry/notebooks/sculptor.ipynb Cell 4\u001b[0m in \u001b[0;36m<cell line: 1>\u001b[0;34m()\u001b[0m\n\u001b[0;32m----> <a href='vscode-notebook-cell:/Users/bean/Dropbox/code/_projects/tmz-poetry/notebooks/sculptor.ipynb#ch0000004?line=0'>1</a>\u001b[0m trainer\u001b[39m.\u001b[39;49mload(\u001b[39m'\u001b[39;49m\u001b[39mcheckpoint.pt\u001b[39;49m\u001b[39m'\u001b[39;49m)\n",
      "File \u001b[0;32m~/.pyenv/versions/3.10.3/lib/python3.10/site-packages/imagen_pytorch/trainer.py:703\u001b[0m, in \u001b[0;36mImagenTrainer.load\u001b[0;34m(self, path, only_model, strict, noop_if_not_exist)\u001b[0m\n\u001b[1;32m    700\u001b[0m \u001b[39mif\u001b[39;00m version\u001b[39m.\u001b[39mparse(__version__) \u001b[39m!=\u001b[39m version\u001b[39m.\u001b[39mparse(loaded_obj[\u001b[39m'\u001b[39m\u001b[39mversion\u001b[39m\u001b[39m'\u001b[39m]):\n\u001b[1;32m    701\u001b[0m     \u001b[39mself\u001b[39m\u001b[39m.\u001b[39mprint(\u001b[39mf\u001b[39m\u001b[39m'\u001b[39m\u001b[39mloading saved imagen at version \u001b[39m\u001b[39m{\u001b[39;00mloaded_obj[\u001b[39m\"\u001b[39m\u001b[39mversion\u001b[39m\u001b[39m\"\u001b[39m]\u001b[39m}\u001b[39;00m\u001b[39m, but current package version is \u001b[39m\u001b[39m{\u001b[39;00m__version__\u001b[39m}\u001b[39;00m\u001b[39m'\u001b[39m)\n\u001b[0;32m--> 703\u001b[0m \u001b[39mself\u001b[39;49m\u001b[39m.\u001b[39;49mimagen\u001b[39m.\u001b[39;49mload_state_dict(loaded_obj[\u001b[39m'\u001b[39;49m\u001b[39mmodel\u001b[39;49m\u001b[39m'\u001b[39;49m], strict \u001b[39m=\u001b[39;49m strict)\n\u001b[1;32m    704\u001b[0m \u001b[39mself\u001b[39m\u001b[39m.\u001b[39msteps\u001b[39m.\u001b[39mcopy_(loaded_obj[\u001b[39m'\u001b[39m\u001b[39msteps\u001b[39m\u001b[39m'\u001b[39m])\n\u001b[1;32m    706\u001b[0m \u001b[39mif\u001b[39;00m only_model:\n",
      "File \u001b[0;32m~/.pyenv/versions/3.10.3/lib/python3.10/site-packages/imagen_pytorch/imagen_pytorch.py:1904\u001b[0m, in \u001b[0;36mImagen.load_state_dict\u001b[0;34m(self, *args, **kwargs)\u001b[0m\n\u001b[1;32m   1902\u001b[0m \u001b[39mdef\u001b[39;00m \u001b[39mload_state_dict\u001b[39m(\u001b[39mself\u001b[39m, \u001b[39m*\u001b[39margs, \u001b[39m*\u001b[39m\u001b[39m*\u001b[39mkwargs):\n\u001b[1;32m   1903\u001b[0m     \u001b[39mself\u001b[39m\u001b[39m.\u001b[39mreset_unets_all_one_device()\n\u001b[0;32m-> 1904\u001b[0m     \u001b[39mreturn\u001b[39;00m \u001b[39msuper\u001b[39;49m()\u001b[39m.\u001b[39;49mload_state_dict(\u001b[39m*\u001b[39;49margs, \u001b[39m*\u001b[39;49m\u001b[39m*\u001b[39;49mkwargs)\n",
      "File \u001b[0;32m~/.pyenv/versions/3.10.3/lib/python3.10/site-packages/torch/nn/modules/module.py:1604\u001b[0m, in \u001b[0;36mModule.load_state_dict\u001b[0;34m(self, state_dict, strict)\u001b[0m\n\u001b[1;32m   1599\u001b[0m         error_msgs\u001b[39m.\u001b[39minsert(\n\u001b[1;32m   1600\u001b[0m             \u001b[39m0\u001b[39m, \u001b[39m'\u001b[39m\u001b[39mMissing key(s) in state_dict: \u001b[39m\u001b[39m{}\u001b[39;00m\u001b[39m. \u001b[39m\u001b[39m'\u001b[39m\u001b[39m.\u001b[39mformat(\n\u001b[1;32m   1601\u001b[0m                 \u001b[39m'\u001b[39m\u001b[39m, \u001b[39m\u001b[39m'\u001b[39m\u001b[39m.\u001b[39mjoin(\u001b[39m'\u001b[39m\u001b[39m\"\u001b[39m\u001b[39m{}\u001b[39;00m\u001b[39m\"\u001b[39m\u001b[39m'\u001b[39m\u001b[39m.\u001b[39mformat(k) \u001b[39mfor\u001b[39;00m k \u001b[39min\u001b[39;00m missing_keys)))\n\u001b[1;32m   1603\u001b[0m \u001b[39mif\u001b[39;00m \u001b[39mlen\u001b[39m(error_msgs) \u001b[39m>\u001b[39m \u001b[39m0\u001b[39m:\n\u001b[0;32m-> 1604\u001b[0m     \u001b[39mraise\u001b[39;00m \u001b[39mRuntimeError\u001b[39;00m(\u001b[39m'\u001b[39m\u001b[39mError(s) in loading state_dict for \u001b[39m\u001b[39m{}\u001b[39;00m\u001b[39m:\u001b[39m\u001b[39m\\n\u001b[39;00m\u001b[39m\\t\u001b[39;00m\u001b[39m{}\u001b[39;00m\u001b[39m'\u001b[39m\u001b[39m.\u001b[39mformat(\n\u001b[1;32m   1605\u001b[0m                        \u001b[39mself\u001b[39m\u001b[39m.\u001b[39m\u001b[39m__class__\u001b[39m\u001b[39m.\u001b[39m\u001b[39m__name__\u001b[39m, \u001b[39m\"\u001b[39m\u001b[39m\\n\u001b[39;00m\u001b[39m\\t\u001b[39;00m\u001b[39m\"\u001b[39m\u001b[39m.\u001b[39mjoin(error_msgs)))\n\u001b[1;32m   1606\u001b[0m \u001b[39mreturn\u001b[39;00m _IncompatibleKeys(missing_keys, unexpected_keys)\n",
      "\u001b[0;31mRuntimeError\u001b[0m: Error(s) in loading state_dict for Imagen:\n\tUnexpected key(s) in state_dict: \"unets.0.downs.0.1.cross_attn.fn.null_kv\", \"unets.0.downs.0.1.cross_attn.fn.norm.g\", \"unets.0.downs.0.1.cross_attn.fn.to_q.weight\", \"unets.0.downs.0.1.cross_attn.fn.to_kv.weight\", \"unets.0.downs.0.1.cross_attn.fn.to_out.0.weight\", \"unets.0.downs.0.1.cross_attn.fn.to_out.1.g\", \"unets.0.ups.3.0.cross_attn.fn.null_kv\", \"unets.0.ups.3.0.cross_attn.fn.norm.g\", \"unets.0.ups.3.0.cross_attn.fn.to_q.weight\", \"unets.0.ups.3.0.cross_attn.fn.to_kv.weight\", \"unets.0.ups.3.0.cross_attn.fn.to_out.0.weight\", \"unets.0.ups.3.0.cross_attn.fn.to_out.1.g\". \n\tsize mismatch for unets.0.text_to_cond.weight: copying a param with shape torch.Size([512, 1024]) from checkpoint, the shape in current model is torch.Size([512, 768]).\n\tsize mismatch for unets.1.text_to_cond.weight: copying a param with shape torch.Size([512, 1024]) from checkpoint, the shape in current model is torch.Size([512, 768])."
     ]
    }
   ],
   "source": [
    "trainer.load('checkpoint.pt')"
   ]
  },
  {
   "cell_type": "code",
   "execution_count": null,
   "metadata": {},
   "outputs": [],
   "source": []
  }
 ],
 "metadata": {
  "kernelspec": {
   "display_name": "Python 3.10.3 64-bit ('3.10.3')",
   "language": "python",
   "name": "python3"
  },
  "language_info": {
   "codemirror_mode": {
    "name": "ipython",
    "version": 3
   },
   "file_extension": ".py",
   "mimetype": "text/x-python",
   "name": "python",
   "nbconvert_exporter": "python",
   "pygments_lexer": "ipython3",
   "version": "3.10.3"
  },
  "orig_nbformat": 4,
  "vscode": {
   "interpreter": {
    "hash": "10626171d4353dd8d0f12b0dae77464b904fee8f635bb045a55f368206a04bde"
   }
  }
 },
 "nbformat": 4,
 "nbformat_minor": 2
}
