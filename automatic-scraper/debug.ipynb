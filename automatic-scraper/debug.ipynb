{
 "cells": [
  {
   "cell_type": "code",
   "execution_count": 1,
   "metadata": {},
   "outputs": [
    {
     "name": "stdout",
     "output_type": "stream",
     "text": [
      "Pixiedust database opened successfully\n"
     ]
    },
    {
     "data": {
      "text/html": [
       "\n",
       "        <div style=\"margin:10px\">\n",
       "            <a href=\"https://github.com/ibm-watson-data-lab/pixiedust\" target=\"_new\">\n",
       "                <img src=\"https://github.com/ibm-watson-data-lab/pixiedust/raw/master/docs/_static/pd_icon32.png\" style=\"float:left;margin-right:10px\"/>\n",
       "            </a>\n",
       "            <span>Pixiedust version 1.1.19</span>\n",
       "        </div>\n",
       "        "
      ],
      "text/plain": [
       "<IPython.core.display.HTML object>"
      ]
     },
     "metadata": {},
     "output_type": "display_data"
    },
    {
     "ename": "AttributeError",
     "evalue": "module 'jinja2.ext' has no attribute 'with_'",
     "output_type": "error",
     "traceback": [
      "\u001b[0;31m---------------------------------------------------------------------------\u001b[0m",
      "\u001b[0;31mAttributeError\u001b[0m                            Traceback (most recent call last)",
      "\u001b[1;32m/Users/bean/Dropbox/code/03_projects/tmz-poetry/automatic-scraper/debug.ipynb Cell 1\u001b[0m in \u001b[0;36m<cell line: 1>\u001b[0;34m()\u001b[0m\n\u001b[0;32m----> <a href='vscode-notebook-cell:/Users/bean/Dropbox/code/03_projects/tmz-poetry/automatic-scraper/debug.ipynb#ch0000004?line=0'>1</a>\u001b[0m \u001b[39mimport\u001b[39;00m \u001b[39mpixiedust\u001b[39;00m\n",
      "File \u001b[0;32m~/.pyenv/versions/3.10.5/lib/python3.10/site-packages/pixiedust/__init__.py:59\u001b[0m, in \u001b[0;36m<module>\u001b[0;34m\u001b[0m\n\u001b[1;32m     57\u001b[0m \u001b[39mtry\u001b[39;00m:\n\u001b[1;32m     58\u001b[0m     \u001b[39mfrom\u001b[39;00m \u001b[39mIPython\u001b[39;00m\u001b[39m.\u001b[39;00m\u001b[39mcore\u001b[39;00m\u001b[39m.\u001b[39;00m\u001b[39mgetipython\u001b[39;00m \u001b[39mimport\u001b[39;00m get_ipython\n\u001b[0;32m---> 59\u001b[0m     \u001b[39mfrom\u001b[39;00m \u001b[39mpixiedust\u001b[39;00m\u001b[39m.\u001b[39;00m\u001b[39mdisplay\u001b[39;00m \u001b[39mimport\u001b[39;00m display\n\u001b[1;32m     60\u001b[0m     \u001b[39mimport\u001b[39;00m \u001b[39mpixiedust\u001b[39;00m\u001b[39m.\u001b[39;00m\u001b[39mservices\u001b[39;00m\n\u001b[1;32m     61\u001b[0m     \u001b[39mif\u001b[39;00m \u001b[39m\"\u001b[39m\u001b[39mdisplay\u001b[39m\u001b[39m\"\u001b[39m \u001b[39mnot\u001b[39;00m \u001b[39min\u001b[39;00m get_ipython()\u001b[39m.\u001b[39muser_ns:\n\u001b[1;32m     62\u001b[0m         \u001b[39m#be nice, only set the display variable on the user namespace if it's not already taken\u001b[39;00m\n",
      "File \u001b[0;32m~/.pyenv/versions/3.10.5/lib/python3.10/site-packages/pixiedust/display/__init__.py:39\u001b[0m, in \u001b[0;36m<module>\u001b[0;34m\u001b[0m\n\u001b[1;32m     36\u001b[0m     \u001b[39mglobal\u001b[39;00m displayRunListeners\n\u001b[1;32m     37\u001b[0m     displayRunListeners\u001b[39m.\u001b[39mappend(listener)\n\u001b[0;32m---> 39\u001b[0m \u001b[39mfrom\u001b[39;00m \u001b[39m.\u001b[39;00m\u001b[39mdisplay\u001b[39;00m \u001b[39mimport\u001b[39;00m \u001b[39m*\u001b[39m\n\u001b[1;32m     40\u001b[0m \u001b[39mfrom\u001b[39;00m \u001b[39m.\u001b[39;00m\u001b[39mchart\u001b[39;00m \u001b[39mimport\u001b[39;00m \u001b[39m*\u001b[39m\n\u001b[1;32m     41\u001b[0m \u001b[39mif\u001b[39;00m PD_Environment\u001b[39m.\u001b[39mhasSpark:\n",
      "File \u001b[0;32m~/.pyenv/versions/3.10.5/lib/python3.10/site-packages/pixiedust/display/display.py:186\u001b[0m, in \u001b[0;36m<module>\u001b[0;34m\u001b[0m\n\u001b[1;32m    182\u001b[0m     \u001b[39mdef\u001b[39;00m \u001b[39mcreateCategories\u001b[39m(\u001b[39mself\u001b[39m):\n\u001b[1;32m    183\u001b[0m         \u001b[39mreturn\u001b[39;00m []\n\u001b[1;32m    185\u001b[0m \u001b[39m@Logger\u001b[39m()\n\u001b[0;32m--> 186\u001b[0m \u001b[39mclass\u001b[39;00m \u001b[39mDisplay\u001b[39;00m(with_metaclass(ABCMeta)):\n\u001b[1;32m    187\u001b[0m \n\u001b[1;32m    188\u001b[0m     \u001b[39m#global jinja2 Environment\u001b[39;00m\n\u001b[1;32m    189\u001b[0m     env \u001b[39m=\u001b[39m PixiedustTemplateEnvironment()\n\u001b[1;32m    191\u001b[0m     \u001b[39mdef\u001b[39;00m \u001b[39m__init__\u001b[39m(\u001b[39mself\u001b[39m, options, entity, dataHandler\u001b[39m=\u001b[39m\u001b[39mNone\u001b[39;00m):\n",
      "File \u001b[0;32m~/.pyenv/versions/3.10.5/lib/python3.10/site-packages/pixiedust/display/display.py:189\u001b[0m, in \u001b[0;36mDisplay\u001b[0;34m()\u001b[0m\n\u001b[1;32m    185\u001b[0m \u001b[39m@Logger\u001b[39m()\n\u001b[1;32m    186\u001b[0m \u001b[39mclass\u001b[39;00m \u001b[39mDisplay\u001b[39;00m(with_metaclass(ABCMeta)):\n\u001b[1;32m    187\u001b[0m \n\u001b[1;32m    188\u001b[0m     \u001b[39m#global jinja2 Environment\u001b[39;00m\n\u001b[0;32m--> 189\u001b[0m     env \u001b[39m=\u001b[39m PixiedustTemplateEnvironment()\n\u001b[1;32m    191\u001b[0m     \u001b[39mdef\u001b[39;00m \u001b[39m__init__\u001b[39m(\u001b[39mself\u001b[39m, options, entity, dataHandler\u001b[39m=\u001b[39m\u001b[39mNone\u001b[39;00m):\n\u001b[1;32m    192\u001b[0m         \u001b[39mself\u001b[39m\u001b[39m.\u001b[39mentity\u001b[39m=\u001b[39mentity\n",
      "File \u001b[0;32m~/.pyenv/versions/3.10.5/lib/python3.10/site-packages/pixiedust/utils/template.py:77\u001b[0m, in \u001b[0;36mPixiedustTemplateEnvironment.__init__\u001b[0;34m(self, baseModule)\u001b[0m\n\u001b[1;32m     75\u001b[0m     frm \u001b[39m=\u001b[39m inspect\u001b[39m.\u001b[39mstack()[\u001b[39m1\u001b[39m]\n\u001b[1;32m     76\u001b[0m     baseModule \u001b[39m=\u001b[39m inspect\u001b[39m.\u001b[39mgetmodule(frm[\u001b[39m0\u001b[39m])\u001b[39m.\u001b[39m\u001b[39m__name__\u001b[39m\n\u001b[0;32m---> 77\u001b[0m \u001b[39mself\u001b[39m\u001b[39m.\u001b[39menv \u001b[39m=\u001b[39m Environment(loader\u001b[39m=\u001b[39;49mPixiedustTemplateLoader(baseModule),extensions\u001b[39m=\u001b[39;49m[\u001b[39m'\u001b[39;49m\u001b[39mjinja2.ext.with_\u001b[39;49m\u001b[39m'\u001b[39;49m])\n\u001b[1;32m     78\u001b[0m \u001b[39mself\u001b[39m\u001b[39m.\u001b[39menv\u001b[39m.\u001b[39mfilters[\u001b[39m\"\u001b[39m\u001b[39moneline\u001b[39m\u001b[39m\"\u001b[39m]\u001b[39m=\u001b[39m\u001b[39mlambda\u001b[39;00m s:reduce(\u001b[39mlambda\u001b[39;00m s, l: s\u001b[39m+\u001b[39ml, s\u001b[39m.\u001b[39msplit(\u001b[39m\"\u001b[39m\u001b[39m\\n\u001b[39;00m\u001b[39m\"\u001b[39m), \u001b[39m\"\u001b[39m\u001b[39m\"\u001b[39m) \u001b[39mif\u001b[39;00m s \u001b[39melse\u001b[39;00m s\n\u001b[1;32m     79\u001b[0m \u001b[39mself\u001b[39m\u001b[39m.\u001b[39menv\u001b[39m.\u001b[39mfilters[\u001b[39m\"\u001b[39m\u001b[39mbase64dataUri\u001b[39m\u001b[39m\"\u001b[39m]\u001b[39m=\u001b[39m\u001b[39mlambda\u001b[39;00m s: \u001b[39m'\u001b[39m\u001b[39mdata:image/png;base64,\u001b[39m\u001b[39m{0}\u001b[39;00m\u001b[39m'\u001b[39m\u001b[39m.\u001b[39mformat(\u001b[39mself\u001b[39m\u001b[39m.\u001b[39mgetTemplate(s\u001b[39m+\u001b[39m\u001b[39m\"\u001b[39m\u001b[39m#base64\u001b[39m\u001b[39m\"\u001b[39m)\u001b[39m.\u001b[39mrender())\n",
      "File \u001b[0;32m~/.pyenv/versions/3.10.5/lib/python3.10/site-packages/jinja2/environment.py:363\u001b[0m, in \u001b[0;36mEnvironment.__init__\u001b[0;34m(self, block_start_string, block_end_string, variable_start_string, variable_end_string, comment_start_string, comment_end_string, line_statement_prefix, line_comment_prefix, trim_blocks, lstrip_blocks, newline_sequence, keep_trailing_newline, extensions, optimized, undefined, finalize, autoescape, loader, cache_size, auto_reload, bytecode_cache, enable_async)\u001b[0m\n\u001b[1;32m    360\u001b[0m \u001b[39mself\u001b[39m\u001b[39m.\u001b[39mpolicies \u001b[39m=\u001b[39m DEFAULT_POLICIES\u001b[39m.\u001b[39mcopy()\n\u001b[1;32m    362\u001b[0m \u001b[39m# load extensions\u001b[39;00m\n\u001b[0;32m--> 363\u001b[0m \u001b[39mself\u001b[39m\u001b[39m.\u001b[39mextensions \u001b[39m=\u001b[39m load_extensions(\u001b[39mself\u001b[39;49m, extensions)\n\u001b[1;32m    365\u001b[0m \u001b[39mself\u001b[39m\u001b[39m.\u001b[39mis_async \u001b[39m=\u001b[39m enable_async\n\u001b[1;32m    366\u001b[0m _environment_config_check(\u001b[39mself\u001b[39m)\n",
      "File \u001b[0;32m~/.pyenv/versions/3.10.5/lib/python3.10/site-packages/jinja2/environment.py:117\u001b[0m, in \u001b[0;36mload_extensions\u001b[0;34m(environment, extensions)\u001b[0m\n\u001b[1;32m    115\u001b[0m \u001b[39mfor\u001b[39;00m extension \u001b[39min\u001b[39;00m extensions:\n\u001b[1;32m    116\u001b[0m     \u001b[39mif\u001b[39;00m \u001b[39misinstance\u001b[39m(extension, \u001b[39mstr\u001b[39m):\n\u001b[0;32m--> 117\u001b[0m         extension \u001b[39m=\u001b[39m t\u001b[39m.\u001b[39mcast(t\u001b[39m.\u001b[39mType[\u001b[39m\"\u001b[39m\u001b[39mExtension\u001b[39m\u001b[39m\"\u001b[39m], import_string(extension))\n\u001b[1;32m    119\u001b[0m     result[extension\u001b[39m.\u001b[39midentifier] \u001b[39m=\u001b[39m extension(environment)\n\u001b[1;32m    121\u001b[0m \u001b[39mreturn\u001b[39;00m result\n",
      "File \u001b[0;32m~/.pyenv/versions/3.10.5/lib/python3.10/site-packages/jinja2/utils.py:149\u001b[0m, in \u001b[0;36mimport_string\u001b[0;34m(import_name, silent)\u001b[0m\n\u001b[1;32m    147\u001b[0m     \u001b[39melse\u001b[39;00m:\n\u001b[1;32m    148\u001b[0m         \u001b[39mreturn\u001b[39;00m \u001b[39m__import__\u001b[39m(import_name)\n\u001b[0;32m--> 149\u001b[0m     \u001b[39mreturn\u001b[39;00m \u001b[39mgetattr\u001b[39;49m(\u001b[39m__import__\u001b[39;49m(module, \u001b[39mNone\u001b[39;49;00m, \u001b[39mNone\u001b[39;49;00m, [obj]), obj)\n\u001b[1;32m    150\u001b[0m \u001b[39mexcept\u001b[39;00m (\u001b[39mImportError\u001b[39;00m, \u001b[39mAttributeError\u001b[39;00m):\n\u001b[1;32m    151\u001b[0m     \u001b[39mif\u001b[39;00m \u001b[39mnot\u001b[39;00m silent:\n",
      "\u001b[0;31mAttributeError\u001b[0m: module 'jinja2.ext' has no attribute 'with_'"
     ]
    }
   ],
   "source": [
    "import pixiedust"
   ]
  },
  {
   "cell_type": "code",
   "execution_count": 7,
   "metadata": {},
   "outputs": [
    {
     "name": "stderr",
     "output_type": "stream",
     "text": [
      "/Users/bean/Dropbox/code/03_projects/tmz-poetry/automatic-scraper/scraper.py:17: GuessedAtParserWarning: No parser was explicitly specified, so I'm using the best available HTML parser for this system (\"lxml\"). This usually isn't a problem, but if you run this code on another system, or in a different virtual environment, it may use a different parser and behave differently.\n",
      "\n",
      "The code that caused this warning is on line 17 of the file /Users/bean/Dropbox/code/03_projects/tmz-poetry/automatic-scraper/scraper.py. To get rid of this warning, pass the additional argument 'features=\"lxml\"' to the BeautifulSoup constructor.\n",
      "\n",
      "  doc = BeautifulSoup(req.text)\n"
     ]
    },
    {
     "name": "stdout",
     "output_type": "stream",
     "text": [
      "- - -\n",
      "Machine Gun Kelly Tour Bus Vandalized With Homophobic Slur.\n",
      "- - -\n",
      "Malia Obama All Smiles While Out With Mystery Man ... Date To Museum?!\n",
      "- - -\n",
      "Brittney Griner Sentenced To 9 Years In Russian Prison ... Biden Slams Ruling.\n",
      "- - -\n",
      "Breonna Taylor Cops Charged in Her Death ... Civil Rights Violations.\n",
      "- - -\n",
      "Airplane Tragedy Pilot Who Died May Have Fallen ... Trying to Eyeball Damaged Landing Gear.\n",
      "- - -\n",
      "Chuck E. Cheese Mom of Snubbed Kid ... Ramping Up to Sue.\n",
      "- - -\n",
      "Terrell Owens Heated Dispute With Neighbor ... Cops Involved.\n",
      "- - -\n",
      "'Selling Sunset' Heather Rae Young Sues Strip Club ... Don't Use My Pic for Promo!!!\n",
      "- - -\n",
      "Gabby Petitio Foundation Mom Announces $100K Donation For Domestic Violence Prevention.\n",
      "- - -\n",
      "Brave New World Dead Pigs Come Back to Life!!! Heartbeat Returns During Experiment.\n",
      "- - -\n",
      "Aaron Rodgers Psychedelics Led To My Best Season ... Helped Me Love Myself.\n",
      "- - -\n",
      "Prince William & Kate Middleton Happy Bday Wishes for Meghan Markle ... Despite Family Feud.\n",
      "- - -\n",
      "Post Malone Gamin' For Charity ... Raises Over $200K!!!\n",
      "- - -\n",
      "Tory Lanez Chris Brown Is The True King Of Pop, Here's A $200K Chain To Prove It!!!\n",
      "- - -\n",
      "'CHEER' STAR JERRY HARRIS Prison Life Nothing to Cheer About.\n",
      "- - -\n",
      "Chrissy Teigen I'm Pregnant!!! 'Joy Has Filled Our Home and Hearts Again'\n"
     ]
    },
    {
     "ename": "FileNotFoundError",
     "evalue": "[Errno 2] No such file or directory: 'headlines.csv'",
     "output_type": "error",
     "traceback": [
      "\u001b[0;31m---------------------------------------------------------------------------\u001b[0m",
      "\u001b[0;31mFileNotFoundError\u001b[0m                         Traceback (most recent call last)",
      "\u001b[1;32m/Users/bean/Dropbox/code/03_projects/tmz-poetry/automatic-scraper/debug.ipynb Cell 1\u001b[0m in \u001b[0;36m<cell line: 2>\u001b[0;34m()\u001b[0m\n\u001b[1;32m      <a href='vscode-notebook-cell:/Users/bean/Dropbox/code/03_projects/tmz-poetry/automatic-scraper/debug.ipynb#ch0000000?line=0'>1</a>\u001b[0m \u001b[39mimport\u001b[39;00m \u001b[39mpdb\u001b[39;00m\n\u001b[0;32m----> <a href='vscode-notebook-cell:/Users/bean/Dropbox/code/03_projects/tmz-poetry/automatic-scraper/debug.ipynb#ch0000000?line=1'>2</a>\u001b[0m \u001b[39mimport\u001b[39;00m \u001b[39mscraper\u001b[39;00m\n\u001b[1;32m      <a href='vscode-notebook-cell:/Users/bean/Dropbox/code/03_projects/tmz-poetry/automatic-scraper/debug.ipynb#ch0000000?line=2'>3</a>\u001b[0m \u001b[39mimport\u001b[39;00m \u001b[39mscraper_writers\u001b[39;00m\n\u001b[1;32m      <a href='vscode-notebook-cell:/Users/bean/Dropbox/code/03_projects/tmz-poetry/automatic-scraper/debug.ipynb#ch0000000?line=3'>4</a>\u001b[0m \u001b[39mimport\u001b[39;00m \u001b[39mpixiedust\u001b[39;00m\n",
      "File \u001b[0;32m~/Dropbox/code/03_projects/tmz-poetry/automatic-scraper/scraper.py:111\u001b[0m, in \u001b[0;36m<module>\u001b[0;34m\u001b[0m\n\u001b[1;32m    107\u001b[0m current \u001b[39m=\u001b[39m pd\u001b[39m.\u001b[39mDataFrame(dicts)\n\u001b[1;32m    110\u001b[0m \u001b[39m# This is reading the headlines.csv file and converting it to a dataframe.\u001b[39;00m\n\u001b[0;32m--> 111\u001b[0m existing \u001b[39m=\u001b[39m pd\u001b[39m.\u001b[39;49mread_csv(\u001b[39m\"\u001b[39;49m\u001b[39mheadlines.csv\u001b[39;49m\u001b[39m\"\u001b[39;49m)\n\u001b[1;32m    112\u001b[0m existing \u001b[39m=\u001b[39m existing\u001b[39m.\u001b[39mdropna(axis\u001b[39m=\u001b[39m\u001b[39m1\u001b[39m)\u001b[39m.\u001b[39mset_index(\u001b[39m\"\u001b[39m\u001b[39mUnnamed: 0\u001b[39m\u001b[39m\"\u001b[39m)\n\u001b[1;32m    113\u001b[0m \u001b[39mif\u001b[39;00m \u001b[39m\"\u001b[39m\u001b[39mtags\u001b[39m\u001b[39m\"\u001b[39m \u001b[39mnot\u001b[39;00m \u001b[39min\u001b[39;00m existing:\n",
      "File \u001b[0;32m~/.pyenv/versions/3.10.5/lib/python3.10/site-packages/pandas/util/_decorators.py:311\u001b[0m, in \u001b[0;36mdeprecate_nonkeyword_arguments.<locals>.decorate.<locals>.wrapper\u001b[0;34m(*args, **kwargs)\u001b[0m\n\u001b[1;32m    305\u001b[0m \u001b[39mif\u001b[39;00m \u001b[39mlen\u001b[39m(args) \u001b[39m>\u001b[39m num_allow_args:\n\u001b[1;32m    306\u001b[0m     warnings\u001b[39m.\u001b[39mwarn(\n\u001b[1;32m    307\u001b[0m         msg\u001b[39m.\u001b[39mformat(arguments\u001b[39m=\u001b[39marguments),\n\u001b[1;32m    308\u001b[0m         \u001b[39mFutureWarning\u001b[39;00m,\n\u001b[1;32m    309\u001b[0m         stacklevel\u001b[39m=\u001b[39mstacklevel,\n\u001b[1;32m    310\u001b[0m     )\n\u001b[0;32m--> 311\u001b[0m \u001b[39mreturn\u001b[39;00m func(\u001b[39m*\u001b[39;49margs, \u001b[39m*\u001b[39;49m\u001b[39m*\u001b[39;49mkwargs)\n",
      "File \u001b[0;32m~/.pyenv/versions/3.10.5/lib/python3.10/site-packages/pandas/io/parsers/readers.py:680\u001b[0m, in \u001b[0;36mread_csv\u001b[0;34m(filepath_or_buffer, sep, delimiter, header, names, index_col, usecols, squeeze, prefix, mangle_dupe_cols, dtype, engine, converters, true_values, false_values, skipinitialspace, skiprows, skipfooter, nrows, na_values, keep_default_na, na_filter, verbose, skip_blank_lines, parse_dates, infer_datetime_format, keep_date_col, date_parser, dayfirst, cache_dates, iterator, chunksize, compression, thousands, decimal, lineterminator, quotechar, quoting, doublequote, escapechar, comment, encoding, encoding_errors, dialect, error_bad_lines, warn_bad_lines, on_bad_lines, delim_whitespace, low_memory, memory_map, float_precision, storage_options)\u001b[0m\n\u001b[1;32m    665\u001b[0m kwds_defaults \u001b[39m=\u001b[39m _refine_defaults_read(\n\u001b[1;32m    666\u001b[0m     dialect,\n\u001b[1;32m    667\u001b[0m     delimiter,\n\u001b[0;32m   (...)\u001b[0m\n\u001b[1;32m    676\u001b[0m     defaults\u001b[39m=\u001b[39m{\u001b[39m\"\u001b[39m\u001b[39mdelimiter\u001b[39m\u001b[39m\"\u001b[39m: \u001b[39m\"\u001b[39m\u001b[39m,\u001b[39m\u001b[39m\"\u001b[39m},\n\u001b[1;32m    677\u001b[0m )\n\u001b[1;32m    678\u001b[0m kwds\u001b[39m.\u001b[39mupdate(kwds_defaults)\n\u001b[0;32m--> 680\u001b[0m \u001b[39mreturn\u001b[39;00m _read(filepath_or_buffer, kwds)\n",
      "File \u001b[0;32m~/.pyenv/versions/3.10.5/lib/python3.10/site-packages/pandas/io/parsers/readers.py:575\u001b[0m, in \u001b[0;36m_read\u001b[0;34m(filepath_or_buffer, kwds)\u001b[0m\n\u001b[1;32m    572\u001b[0m _validate_names(kwds\u001b[39m.\u001b[39mget(\u001b[39m\"\u001b[39m\u001b[39mnames\u001b[39m\u001b[39m\"\u001b[39m, \u001b[39mNone\u001b[39;00m))\n\u001b[1;32m    574\u001b[0m \u001b[39m# Create the parser.\u001b[39;00m\n\u001b[0;32m--> 575\u001b[0m parser \u001b[39m=\u001b[39m TextFileReader(filepath_or_buffer, \u001b[39m*\u001b[39;49m\u001b[39m*\u001b[39;49mkwds)\n\u001b[1;32m    577\u001b[0m \u001b[39mif\u001b[39;00m chunksize \u001b[39mor\u001b[39;00m iterator:\n\u001b[1;32m    578\u001b[0m     \u001b[39mreturn\u001b[39;00m parser\n",
      "File \u001b[0;32m~/.pyenv/versions/3.10.5/lib/python3.10/site-packages/pandas/io/parsers/readers.py:934\u001b[0m, in \u001b[0;36mTextFileReader.__init__\u001b[0;34m(self, f, engine, **kwds)\u001b[0m\n\u001b[1;32m    931\u001b[0m     \u001b[39mself\u001b[39m\u001b[39m.\u001b[39moptions[\u001b[39m\"\u001b[39m\u001b[39mhas_index_names\u001b[39m\u001b[39m\"\u001b[39m] \u001b[39m=\u001b[39m kwds[\u001b[39m\"\u001b[39m\u001b[39mhas_index_names\u001b[39m\u001b[39m\"\u001b[39m]\n\u001b[1;32m    933\u001b[0m \u001b[39mself\u001b[39m\u001b[39m.\u001b[39mhandles: IOHandles \u001b[39m|\u001b[39m \u001b[39mNone\u001b[39;00m \u001b[39m=\u001b[39m \u001b[39mNone\u001b[39;00m\n\u001b[0;32m--> 934\u001b[0m \u001b[39mself\u001b[39m\u001b[39m.\u001b[39m_engine \u001b[39m=\u001b[39m \u001b[39mself\u001b[39;49m\u001b[39m.\u001b[39;49m_make_engine(f, \u001b[39mself\u001b[39;49m\u001b[39m.\u001b[39;49mengine)\n",
      "File \u001b[0;32m~/.pyenv/versions/3.10.5/lib/python3.10/site-packages/pandas/io/parsers/readers.py:1218\u001b[0m, in \u001b[0;36mTextFileReader._make_engine\u001b[0;34m(self, f, engine)\u001b[0m\n\u001b[1;32m   1214\u001b[0m     mode \u001b[39m=\u001b[39m \u001b[39m\"\u001b[39m\u001b[39mrb\u001b[39m\u001b[39m\"\u001b[39m\n\u001b[1;32m   1215\u001b[0m \u001b[39m# error: No overload variant of \"get_handle\" matches argument types\u001b[39;00m\n\u001b[1;32m   1216\u001b[0m \u001b[39m# \"Union[str, PathLike[str], ReadCsvBuffer[bytes], ReadCsvBuffer[str]]\"\u001b[39;00m\n\u001b[1;32m   1217\u001b[0m \u001b[39m# , \"str\", \"bool\", \"Any\", \"Any\", \"Any\", \"Any\", \"Any\"\u001b[39;00m\n\u001b[0;32m-> 1218\u001b[0m \u001b[39mself\u001b[39m\u001b[39m.\u001b[39mhandles \u001b[39m=\u001b[39m get_handle(  \u001b[39m# type: ignore[call-overload]\u001b[39;49;00m\n\u001b[1;32m   1219\u001b[0m     f,\n\u001b[1;32m   1220\u001b[0m     mode,\n\u001b[1;32m   1221\u001b[0m     encoding\u001b[39m=\u001b[39;49m\u001b[39mself\u001b[39;49m\u001b[39m.\u001b[39;49moptions\u001b[39m.\u001b[39;49mget(\u001b[39m\"\u001b[39;49m\u001b[39mencoding\u001b[39;49m\u001b[39m\"\u001b[39;49m, \u001b[39mNone\u001b[39;49;00m),\n\u001b[1;32m   1222\u001b[0m     compression\u001b[39m=\u001b[39;49m\u001b[39mself\u001b[39;49m\u001b[39m.\u001b[39;49moptions\u001b[39m.\u001b[39;49mget(\u001b[39m\"\u001b[39;49m\u001b[39mcompression\u001b[39;49m\u001b[39m\"\u001b[39;49m, \u001b[39mNone\u001b[39;49;00m),\n\u001b[1;32m   1223\u001b[0m     memory_map\u001b[39m=\u001b[39;49m\u001b[39mself\u001b[39;49m\u001b[39m.\u001b[39;49moptions\u001b[39m.\u001b[39;49mget(\u001b[39m\"\u001b[39;49m\u001b[39mmemory_map\u001b[39;49m\u001b[39m\"\u001b[39;49m, \u001b[39mFalse\u001b[39;49;00m),\n\u001b[1;32m   1224\u001b[0m     is_text\u001b[39m=\u001b[39;49mis_text,\n\u001b[1;32m   1225\u001b[0m     errors\u001b[39m=\u001b[39;49m\u001b[39mself\u001b[39;49m\u001b[39m.\u001b[39;49moptions\u001b[39m.\u001b[39;49mget(\u001b[39m\"\u001b[39;49m\u001b[39mencoding_errors\u001b[39;49m\u001b[39m\"\u001b[39;49m, \u001b[39m\"\u001b[39;49m\u001b[39mstrict\u001b[39;49m\u001b[39m\"\u001b[39;49m),\n\u001b[1;32m   1226\u001b[0m     storage_options\u001b[39m=\u001b[39;49m\u001b[39mself\u001b[39;49m\u001b[39m.\u001b[39;49moptions\u001b[39m.\u001b[39;49mget(\u001b[39m\"\u001b[39;49m\u001b[39mstorage_options\u001b[39;49m\u001b[39m\"\u001b[39;49m, \u001b[39mNone\u001b[39;49;00m),\n\u001b[1;32m   1227\u001b[0m )\n\u001b[1;32m   1228\u001b[0m \u001b[39massert\u001b[39;00m \u001b[39mself\u001b[39m\u001b[39m.\u001b[39mhandles \u001b[39mis\u001b[39;00m \u001b[39mnot\u001b[39;00m \u001b[39mNone\u001b[39;00m\n\u001b[1;32m   1229\u001b[0m f \u001b[39m=\u001b[39m \u001b[39mself\u001b[39m\u001b[39m.\u001b[39mhandles\u001b[39m.\u001b[39mhandle\n",
      "File \u001b[0;32m~/.pyenv/versions/3.10.5/lib/python3.10/site-packages/pandas/io/common.py:786\u001b[0m, in \u001b[0;36mget_handle\u001b[0;34m(path_or_buf, mode, encoding, compression, memory_map, is_text, errors, storage_options)\u001b[0m\n\u001b[1;32m    781\u001b[0m \u001b[39melif\u001b[39;00m \u001b[39misinstance\u001b[39m(handle, \u001b[39mstr\u001b[39m):\n\u001b[1;32m    782\u001b[0m     \u001b[39m# Check whether the filename is to be opened in binary mode.\u001b[39;00m\n\u001b[1;32m    783\u001b[0m     \u001b[39m# Binary mode does not support 'encoding' and 'newline'.\u001b[39;00m\n\u001b[1;32m    784\u001b[0m     \u001b[39mif\u001b[39;00m ioargs\u001b[39m.\u001b[39mencoding \u001b[39mand\u001b[39;00m \u001b[39m\"\u001b[39m\u001b[39mb\u001b[39m\u001b[39m\"\u001b[39m \u001b[39mnot\u001b[39;00m \u001b[39min\u001b[39;00m ioargs\u001b[39m.\u001b[39mmode:\n\u001b[1;32m    785\u001b[0m         \u001b[39m# Encoding\u001b[39;00m\n\u001b[0;32m--> 786\u001b[0m         handle \u001b[39m=\u001b[39m \u001b[39mopen\u001b[39;49m(\n\u001b[1;32m    787\u001b[0m             handle,\n\u001b[1;32m    788\u001b[0m             ioargs\u001b[39m.\u001b[39;49mmode,\n\u001b[1;32m    789\u001b[0m             encoding\u001b[39m=\u001b[39;49mioargs\u001b[39m.\u001b[39;49mencoding,\n\u001b[1;32m    790\u001b[0m             errors\u001b[39m=\u001b[39;49merrors,\n\u001b[1;32m    791\u001b[0m             newline\u001b[39m=\u001b[39;49m\u001b[39m\"\u001b[39;49m\u001b[39m\"\u001b[39;49m,\n\u001b[1;32m    792\u001b[0m         )\n\u001b[1;32m    793\u001b[0m     \u001b[39melse\u001b[39;00m:\n\u001b[1;32m    794\u001b[0m         \u001b[39m# Binary mode\u001b[39;00m\n\u001b[1;32m    795\u001b[0m         handle \u001b[39m=\u001b[39m \u001b[39mopen\u001b[39m(handle, ioargs\u001b[39m.\u001b[39mmode)\n",
      "\u001b[0;31mFileNotFoundError\u001b[0m: [Errno 2] No such file or directory: 'headlines.csv'"
     ]
    }
   ],
   "source": [
    "import pdb\n",
    "import scraper\n",
    "import scraper_writers\n",
    "import pixiedust"
   ]
  },
  {
   "cell_type": "code",
   "execution_count": 4,
   "metadata": {},
   "outputs": [
    {
     "name": "stdout",
     "output_type": "stream",
     "text": [
      "> \u001b[0;32m<string>\u001b[0m(1)\u001b[0;36m<module>\u001b[0;34m()\u001b[0m\n",
      "\n",
      "*** NameError: name 'test' is not defined\n",
      "*** NameError: name 'haiku' is not defined\n"
     ]
    },
    {
     "ename": "NameError",
     "evalue": "name 'scraper' is not defined",
     "output_type": "error",
     "traceback": [
      "\u001b[0;31m---------------------------------------------------------------------------\u001b[0m",
      "\u001b[0;31mNameError\u001b[0m                                 Traceback (most recent call last)",
      "\u001b[1;32m/Users/bean/Dropbox/code/03_projects/tmz-poetry/automatic-scraper/debug.ipynb Cell 2\u001b[0m in \u001b[0;36m<cell line: 1>\u001b[0;34m()\u001b[0m\n\u001b[0;32m----> <a href='vscode-notebook-cell:/Users/bean/Dropbox/code/03_projects/tmz-poetry/automatic-scraper/debug.ipynb#ch0000001?line=0'>1</a>\u001b[0m pdb\u001b[39m.\u001b[39;49mrun(\u001b[39m'\u001b[39;49m\u001b[39mscraper.test()\u001b[39;49m\u001b[39m'\u001b[39;49m)\n",
      "File \u001b[0;32m~/.pyenv/versions/3.10.5/lib/python3.10/pdb.py:1610\u001b[0m, in \u001b[0;36mrun\u001b[0;34m(statement, globals, locals)\u001b[0m\n\u001b[1;32m   1609\u001b[0m \u001b[39mdef\u001b[39;00m \u001b[39mrun\u001b[39m(statement, \u001b[39mglobals\u001b[39m\u001b[39m=\u001b[39m\u001b[39mNone\u001b[39;00m, \u001b[39mlocals\u001b[39m\u001b[39m=\u001b[39m\u001b[39mNone\u001b[39;00m):\n\u001b[0;32m-> 1610\u001b[0m     Pdb()\u001b[39m.\u001b[39;49mrun(statement, \u001b[39mglobals\u001b[39;49m, \u001b[39mlocals\u001b[39;49m)\n",
      "File \u001b[0;32m~/.pyenv/versions/3.10.5/lib/python3.10/bdb.py:597\u001b[0m, in \u001b[0;36mBdb.run\u001b[0;34m(self, cmd, globals, locals)\u001b[0m\n\u001b[1;32m    595\u001b[0m sys\u001b[39m.\u001b[39msettrace(\u001b[39mself\u001b[39m\u001b[39m.\u001b[39mtrace_dispatch)\n\u001b[1;32m    596\u001b[0m \u001b[39mtry\u001b[39;00m:\n\u001b[0;32m--> 597\u001b[0m     exec(cmd, \u001b[39mglobals\u001b[39;49m, \u001b[39mlocals\u001b[39;49m)\n\u001b[1;32m    598\u001b[0m \u001b[39mexcept\u001b[39;00m BdbQuit:\n\u001b[1;32m    599\u001b[0m     \u001b[39mpass\u001b[39;00m\n",
      "File \u001b[0;32m<string>:1\u001b[0m, in \u001b[0;36m<module>\u001b[0;34m\u001b[0m\n",
      "\u001b[0;31mNameError\u001b[0m: name 'scraper' is not defined"
     ]
    }
   ],
   "source": [
    "pdb.run('scraper.test()')"
   ]
  },
  {
   "cell_type": "code",
   "execution_count": null,
   "metadata": {},
   "outputs": [],
   "source": []
  }
 ],
 "metadata": {
  "kernelspec": {
   "display_name": "Python 3.10.5 64-bit ('3.10.5')",
   "language": "python",
   "name": "python3"
  },
  "language_info": {
   "codemirror_mode": {
    "name": "ipython",
    "version": 3
   },
   "file_extension": ".py",
   "mimetype": "text/x-python",
   "name": "python",
   "nbconvert_exporter": "python",
   "pygments_lexer": "ipython3",
   "version": "3.10.5"
  },
  "orig_nbformat": 4,
  "vscode": {
   "interpreter": {
    "hash": "134736d2bd8d30a43a7e81209d4f3bae1a364c8aa0c0cc845bdcd189c4629406"
   }
  }
 },
 "nbformat": 4,
 "nbformat_minor": 2
}
